{
 "cells": [
  {
   "cell_type": "code",
   "execution_count": null,
   "id": "fb14e560",
   "metadata": {
    "scrolled": true
   },
   "outputs": [],
   "source": [
    "#匯入套件\n",
    "from stocker import Stocker"
   ]
  },
  {
   "cell_type": "code",
   "execution_count": null,
   "id": "6566dc74",
   "metadata": {
    "scrolled": true
   },
   "outputs": [],
   "source": [
    "#Stocker(stock_id, start_date)-輸入股票代碼及初始日期\n",
    "stock = Stocker('2330.TW','1995-01-01')"
   ]
  },
  {
   "cell_type": "code",
   "execution_count": null,
   "id": "dbbc4707",
   "metadata": {},
   "outputs": [],
   "source": [
    "#繪製歷史股價\n",
    "stock.plot_stock()"
   ]
  },
  {
   "cell_type": "code",
   "execution_count": null,
   "id": "78c18a8a",
   "metadata": {},
   "outputs": [],
   "source": [
    "#使用Prophet預言家模型\n",
    "model, model_data = stock.create_prophet_model(days=90)"
   ]
  },
  {
   "cell_type": "code",
   "execution_count": null,
   "id": "257d9cd3",
   "metadata": {},
   "outputs": [],
   "source": [
    "#調整擬和彈性\n",
    "stock.changepoint_prior_scale = 0.25"
   ]
  },
  {
   "cell_type": "code",
   "execution_count": null,
   "id": "0168a924",
   "metadata": {
    "scrolled": false
   },
   "outputs": [],
   "source": [
    "#各種擬和彈性下的預測結果\n",
    "stock.changepoint_prior_analysis(changepoint_priors=[0.25, 0.025])"
   ]
  },
  {
   "cell_type": "code",
   "execution_count": null,
   "id": "dd919c70",
   "metadata": {
    "scrolled": true
   },
   "outputs": [],
   "source": [
    "#評估學習(參數start_date&end_date為測資時間區段)\n",
    "stock.evaluate_prediction(start_date= \"2021-01-01\", end_date= \"2021-04-01\") "
   ]
  }
 ],
 "metadata": {
  "kernelspec": {
   "display_name": "Python 3 (ipykernel)",
   "language": "python",
   "name": "python3"
  },
  "language_info": {
   "codemirror_mode": {
    "name": "ipython",
    "version": 3
   },
   "file_extension": ".py",
   "mimetype": "text/x-python",
   "name": "python",
   "nbconvert_exporter": "python",
   "pygments_lexer": "ipython3",
   "version": "3.9.7"
  }
 },
 "nbformat": 4,
 "nbformat_minor": 5
}
